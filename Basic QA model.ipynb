{
 "cells": [
  {
   "cell_type": "code",
   "execution_count": null,
   "id": "1e0d5f8a-b624-48df-9361-f8fcdc37e8c8",
   "metadata": {},
   "outputs": [],
   "source": [
    "import gradio as gr\n",
    "from transformers import pipeline, AutoTokenizer, AutoModel\n",
    "from sentence_transformers import SentenceTransformer\n",
    "import numpy as np\n",
    "import torch\n",
    "\n",
    "qa_model = pipeline(\"question-answering\", model=\"deepset/roberta-base-squad2\")\n",
    "\n",
    "embedder = SentenceTransformer('all-MiniLM-L6-v2')\n",
    "\n",
    "with open(\"Copy of Understanding Statistical Hypothesis Testing (OJT Notes).txt\", \"r\", encoding=\"utf-8\") as file:\n",
    "    content = file.read()\n",
    "\n",
    "chunks = [chunk.strip() for chunk in content.split(\"\\n\\n\") if len(chunk.strip()) > 50]\n",
    "\n",
    "chunk_embeddings = embedder.encode(chunks)\n",
    "\n",
    "def answer_question(question):\n",
    "    question_embedding = embedder.encode([question])[0]\n",
    "    similarities = np.inner(chunk_embeddings, question_embedding)\n",
    "    best_idx = int(np.argmax(similarities))\n",
    "    best_context = chunks[best_idx]\n",
    "    \n",
    "    result = qa_model(question=question, context=best_context)\n",
    "    return result[\"answer\"]\n",
    "\n",
    "gr.Interface(\n",
    "    fn=answer_question,\n",
    "    inputs=\"text\",\n",
    "    outputs=\"text\",\n",
    "    title=\"Hypothesis Testing QA\",\n",
    "    description=\"Ask any question\",\n",
    ").launch()\n"
   ]
  }
 ],
 "metadata": {
  "kernelspec": {
   "display_name": "Python [conda env:base] *",
   "language": "python",
   "name": "conda-base-py"
  },
  "language_info": {
   "codemirror_mode": {
    "name": "ipython",
    "version": 3
   },
   "file_extension": ".py",
   "mimetype": "text/x-python",
   "name": "python",
   "nbconvert_exporter": "python",
   "pygments_lexer": "ipython3",
   "version": "3.12.7"
  }
 },
 "nbformat": 4,
 "nbformat_minor": 5
}
